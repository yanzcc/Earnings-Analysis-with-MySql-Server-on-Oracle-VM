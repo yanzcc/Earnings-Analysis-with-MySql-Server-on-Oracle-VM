{
 "cells":[
  {
   "cell_type":"code",
   "source":[
    "\n",
    "import pandas as pd\n",
    "import numpy as np\n",
    "import time\n",
    "from datetime import date, timedelta, datetime\n",
    "import pymysql\n",
    "from scipy.stats import norm\n",
    "\n",
    "from sqlalchemy import create_engine\n",
    "from sqlalchemy import text"
   ],
   "execution_count":1,
   "outputs":[
    
   ],
   "metadata":{
    "datalore":{
     "node_id":"D7VQtpd4pPs8xJw6S95gCA",
     "type":"CODE",
     "hide_input_from_viewers":true,
     "hide_output_from_viewers":true
    }
   }
  },
  {
   "cell_type":"code",
   "source":[
    "### ssh -i \"C:\\Users\\16784\\Documents\\ssh-key-2024-03-26.key\" opc@150.136.59.147\n",
    "### nohup dolt sql-server --host=0.0.0.0 --port=3306 --user=root --password=6qLwdLEUarSs23y > dolt_server.log 2>&1 &\n",
    "### nohup dolt sql-server --host=0.0.0.0 --port=3307 --user=root --password=6qLwdLEUarSs23y > dolt_server.log 2>&1 &\n",
    "### nohup dolt sql-server --host=0.0.0.0 --port=3308 --user=root --password=6qLwdLEUarSs23y > dolt_server.log 2>&1 &"
   ],
   "execution_count":2,
   "outputs":[
    
   ],
   "metadata":{
    "datalore":{
     "node_id":"Scz6YEqO3BgFrnRiENeGPw",
     "type":"CODE",
     "hide_input_from_viewers":true,
     "hide_output_from_viewers":true
    }
   }
  },
  {
   "cell_type":"code",
   "source":[
    "username = 'root'\n",
    "password = '6qLwdLEUarSs23y'\n",
    "host = '150.136.59.147'\n",
    "port_earnings = '3306' \n",
    "port_stocks = '3307' \n",
    "port_options = '3308' "
   ],
   "execution_count":3,
   "outputs":[
    
   ],
   "metadata":{
    "datalore":{
     "node_id":"vS998lAazn6LlMYuoBZAU0",
     "type":"CODE",
     "hide_input_from_viewers":true,
     "hide_output_from_viewers":true
    }
   }
  },
  {
   "cell_type":"code",
   "source":[
    "# Setting up connections to mysql servers running on free oracle vm\n",
    "# although I also connected to the servers using the built-in sql support of datalore(sql cells are amazing)\n",
    "# eventually I modified everything so this notebook can operate in other environments as well\n",
    "\n",
    "connection_earnings = f'mysql+pymysql:\/\/{username}:{password}@{host}:{port_earnings}\/earnings'\n",
    "connection_stocks = f'mysql+pymysql:\/\/{username}:{password}@{host}:{port_stocks}\/stocks'\n",
    "connection_options = f'mysql+pymysql:\/\/{username}:{password}@{host}:{port_options}\/options'\n",
    "engine_e = create_engine(connection_earnings)\n",
    "engine_s = create_engine(connection_stocks)\n",
    "engine_o = create_engine(connection_options)"
   ],
   "execution_count":4,
   "outputs":[
    
   ],
   "metadata":{
    "datalore":{
     "node_id":"kRUxOfg77PeaT87q2WDUa3",
     "type":"CODE",
     "hide_input_from_viewers":true,
     "hide_output_from_viewers":true
    }
   }
  },
  {
   "cell_type":"code",
   "source":[
    "def take_ticker():\n",
    "    \"\"\"\n",
    "\n",
    "    :rtype: object\n",
    "    \"\"\"\n",
    "    while True:  # Keep asking until a valid ticker is entered\n",
    "        input_ticker = input(\"Enter a stock ticker: \")\n",
    "        ticker = input_ticker.upper()\n",
    "\n",
    "        # Query to check if the ticker exists in the earnings_calendar table\n",
    "        query = text(\"SELECT 1 FROM earnings_calendar WHERE act_symbol = :ticker LIMIT 1\")\n",
    "        # Execute the query and fetch the result\n",
    "        with engine_e.connect() as connection:\n",
    "            # Using parameters to safely insert the ticker into the query\n",
    "            result = connection.execute(query, {\"ticker\": ticker})\n",
    "            # Fetching the first row of the result\n",
    "            exists_row = result.fetchone()\n",
    "            # Since the query was only \"SELECT 1\", if the query returned a row - the ticker exists\n",
    "            exists = exists_row is not None\n",
    "\n",
    "        if exists:\n",
    "            return ticker\n",
    "        else:\n",
    "            print(f\"The ticker '{ticker}' is not found in the database. Please try again.\")"
   ],
   "execution_count":5,
   "outputs":[
    
   ],
   "metadata":{
    "datalore":{
     "node_id":"S9XCr2Hgn2N7XTwl7fD87o",
     "type":"CODE",
     "hide_input_from_viewers":true,
     "hide_output_from_viewers":true
    }
   }
  },
  {
   "cell_type":"code",
   "source":[
    "def find_earnings_dates(ticker):\n",
    "    query = text(\"\"\"\n",
    "    SELECT *\n",
    "    FROM earnings_calendar\n",
    "    WHERE act_symbol = :ticker\n",
    "    ORDER BY date;\n",
    "    \"\"\")\n",
    "    \n",
    "    with engine_e.connect() as connection:\n",
    "        result = connection.execute(query, {\"ticker\": ticker})\n",
    "        df_earnings_date = pd.DataFrame(result.fetchall(), columns=result.keys())\n",
    "\n",
    "    df_earnings_date['date'] = pd.to_datetime(df_earnings_date['date']).dt.date\n",
    "    condition = df_earnings_date['when'] == 'After market close'\n",
    "    df_earnings_date.loc[condition, 'date'] = pd.to_datetime(df_earnings_date.loc[condition, 'date']) + pd.Timedelta(days=1)\n",
    "    df_earnings_date['date'] = df_earnings_date['date'].apply(lambda x: x.date() if isinstance(x, pd.Timestamp) else x)\n",
    "    \n",
    "    return df_earnings_date"
   ],
   "execution_count":6,
   "outputs":[
    
   ],
   "metadata":{
    "datalore":{
     "node_id":"K6WWsGvPNs90Ai48al2s8F",
     "type":"CODE",
     "hide_input_from_viewers":true,
     "hide_output_from_viewers":true
    }
   }
  },
  {
   "cell_type":"code",
   "source":[
    "def fetch_stock_prices_around_earnings(ticker, earnings_dates, days_before=5, days_after=5):\n",
    "    all_stock_prices = []  # List to hold data for all earnings dates\n",
    "    period_counter = 1  # Initialize counter for the reporting period identifier\n",
    "    last_earnings_date = None  # Track the last earnings date processed\n",
    "\n",
    "    for earnings_date in earnings_dates:\n",
    "        # Ensure each earnings_date is a datetime.date object for manipulation\n",
    "        if isinstance(earnings_date, str):\n",
    "            earnings_date = pd.to_datetime(earnings_date).date()\n",
    "\n",
    "        # Since the data has some glitch, check if there are at least 60 days since the last earnings date processed\n",
    "        if last_earnings_date and (earnings_date - last_earnings_date).days < 60:\n",
    "            continue  # Skip this earnings date if the condition is not met\n",
    "\n",
    "        # Calculate the start and end dates for the SQL query\n",
    "        start_date = earnings_date - pd.Timedelta(days=days_before)\n",
    "        end_date = earnings_date + pd.Timedelta(days=days_after)\n",
    "        \n",
    "        # Use text() to prepare the query\n",
    "        query = text(\"\"\"\n",
    "        SELECT date, close, open, high, low\n",
    "        FROM ohlcv\n",
    "        WHERE act_symbol = :ticker\n",
    "          AND date BETWEEN :start_date AND :end_date\n",
    "        ORDER BY date;\n",
    "        \"\"\")\n",
    "        \n",
    "        with engine_s.connect() as connection:\n",
    "            # Execute the query with parameters\n",
    "            result = connection.execute(query, {\"ticker\": ticker, \"start_date\": start_date, \"end_date\": end_date})\n",
    "            # Fetch all results\n",
    "            rows = result.fetchall()\n",
    "            # If rows are fetched, create a DataFrame, add the period column, and append to the list\n",
    "            if rows:\n",
    "                df_stock_prices = pd.DataFrame(rows, columns=result.keys())\n",
    "                df_stock_prices['period'] = period_counter  # Add the period identifier column\n",
    "                all_stock_prices.append(df_stock_prices)\n",
    "            \n",
    "        last_earnings_date = earnings_date        \n",
    "        period_counter += 1  # Increment the period counter after each iteration\n",
    "\n",
    "    # Concatenate all DataFrames in the list into a single DataFrame\n",
    "    if all_stock_prices:\n",
    "        df_all_stock_prices = pd.concat(all_stock_prices, ignore_index=True)\n",
    "    else:\n",
    "        df_all_stock_prices = pd.DataFrame(columns=['date', 'close', 'open', 'high', 'low', 'period'])\n",
    "    \n",
    "    return df_all_stock_prices"
   ],
   "execution_count":7,
   "outputs":[
    
   ],
   "metadata":{
    "datalore":{
     "node_id":"SWjdmYk3WwgwzlUvkvyn90",
     "type":"CODE",
     "hide_input_from_viewers":true,
     "hide_output_from_viewers":true
    }
   }
  },
  {
   "cell_type":"code",
   "source":[
    "def calculate_percentage_changes(df):\n",
    "    # Ensure data is sorted by period and then by date to maintain order\n",
    "    df = df.sort_values(by=['period', 'date'])\n",
    "    df['close'] = df['close'].astype(float)\n",
    "    df['high'] = df['high'].astype(float)\n",
    "    df['low'] = df['low'].astype(float)\n",
    "    # Calculate daily percentage change in closing prices within each period\n",
    "    df['close_pct_change'] = df.groupby('period')['close'].pct_change() * 100\n",
    "    \n",
    "    period_extremes = df.groupby('period').agg(\n",
    "        lowest_low=('low', 'min'), \n",
    "        highest_high=('high', 'max'),\n",
    "        vix = ('close_pct_change', 'std')\n",
    "    ).reset_index()\n",
    "\n",
    "    # Step 2: Calculate the percentage difference between the lowest low and the highest high within each period\n",
    "    period_extremes['largest_pct_diff'] = (\n",
    "        (period_extremes['highest_high'] - period_extremes['lowest_low']) \/ period_extremes['lowest_low']\n",
    "    ) * 100\n",
    "    \n",
    "    # Merge this back with the original dataframe to include the largest percentage difference for each period\n",
    "    df = df.merge(period_extremes, on='period', how='left')\n",
    "    \n",
    "    # For each period, find the total percentage change\n",
    "    first_last_close = df.groupby('period')['close'].agg(['first', 'last']).reset_index()\n",
    "    first_last_close['total_close_pct_change'] = ((first_last_close['last'] - first_last_close['first']) \/ first_last_close['first']) * 100\n",
    "    # Merge the total percentage change for each period back into the original DataFrame\n",
    "    df = df.merge(first_last_close, on='period', how='left')\n",
    "    \n",
    "    return df\n",
    "\n",
    "# Assuming df_all_stock_prices is DataFrame from fetch_stock_prices_around_earnings function\n",
    "# processed_df = calculate_percentage_changes(df_all_stock_prices)\n",
    "# print(processed_df)"
   ],
   "execution_count":24,
   "outputs":[
    
   ],
   "metadata":{
    "datalore":{
     "node_id":"lCjUhpIaAaOHbryzdzvpzb",
     "type":"CODE",
     "hide_input_from_viewers":true,
     "hide_output_from_viewers":true
    }
   }
  },
  {
   "cell_type":"code",
   "source":[
    "## get the historical prices of a given stock and label with earnings dates\n",
    "   \n",
    "def fetch_prices_with_period(ticker, earnings_dates, days_before=1, days_after=7):\n",
    "    period_counter = 1  \n",
    "    last_earnings_date = None  \n",
    "\n",
    "    if isinstance(earnings_dates, str):\n",
    "            earnings_dates = pd.to_datetime(earnings_dates).date()\n",
    "    # Calculate the start and end dates for the SQL query\n",
    "\n",
    "    start_date = earnings_dates[0] - pd.Timedelta(days = 90)\n",
    "    end_date = earnings_dates[len(earnings_dates) - 1] + pd.Timedelta(days = days_after)\n",
    "    \n",
    "    # Use text() to prepare the query\n",
    "    query = text(\"\"\"\n",
    "    SELECT date, close, open, high, low\n",
    "    FROM ohlcv\n",
    "    WHERE act_symbol = :ticker\n",
    "        AND date BETWEEN :start_date AND :end_date\n",
    "    ORDER BY date;\n",
    "    \"\"\")\n",
    "    \n",
    "    with engine_s.connect() as connection:\n",
    "        result = connection.execute(query, {\"ticker\": ticker, \"start_date\": start_date, \"end_date\": end_date})\n",
    "        rows = result.fetchall()\n",
    "        if rows:\n",
    "            df_stock_prices = pd.DataFrame(rows, columns=result.keys())\n",
    "\n",
    "        \n",
    "    df_stock_prices['period'] = 0\n",
    "    df_stock_prices['earnings_release'] = 0\n",
    "\n",
    "    for i, earnings_date in enumerate(earnings_dates):\n",
    "        # Define the period range\n",
    "        period_start = earnings_date - pd.Timedelta(days=days_before)\n",
    "        period_end = earnings_date + pd.Timedelta(days=days_after)\n",
    "        \n",
    "        # Label the period number\n",
    "        df_stock_prices.loc[(df_stock_prices['date'] >= period_start) & (df_stock_prices['date'] <= period_end), 'period'] = i + 1\n",
    "        \n",
    "        # Mark the earnings release window\n",
    "        df_stock_prices.loc[(df_stock_prices['date'] >= period_start) & (df_stock_prices['date'] <= period_end), 'earnings_release'] = 1\n",
    "        \n",
    "        # Update period number for dates after the current earnings date until the next earnings date\n",
    "        if i < len(earnings_dates) - 1:\n",
    "            next_period_start = earnings_dates[i + 1] - pd.Timedelta(days=days_before)\n",
    "            df_stock_prices.loc[(df_stock_prices['date'] > period_end) & (df_stock_prices['date'] < next_period_start), 'period'] = i + 1\n",
    "\n",
    "    # Special handling for dates before the first period and after the last period\n",
    "    df_stock_prices.loc[df_stock_prices['date'] < earnings_dates[0], 'period'] = 0  # First period starts from the beginning of the dataset\n",
    "    df_stock_prices.loc[df_stock_prices['date'] > earnings_dates[len(earnings_dates) - 1], 'period'] += 1  # Increment period after the last earnings date\n",
    "\n",
    "    return df_stock_prices\n"
   ],
   "execution_count":56,
   "outputs":[
    
   ],
   "metadata":{
    "datalore":{
     "node_id":"HJtzSkKEPxNzEDLVNV1Oh0",
     "type":"CODE",
     "hide_input_from_viewers":true,
     "hide_output_from_viewers":true
    }
   }
  },
  {
   "cell_type":"code",
   "source":[
    "tk_0 = take_ticker()\n",
    "df_date = find_earnings_dates(tk_0)\n",
    "df_test = fetch_prices_with_period(tk_0, df_date['date'])"
   ],
   "execution_count":57,
   "outputs":[
    {
     "name":"stdout",
     "text":[
      "Enter a stock ticker:  meta\n"
     ],
     "output_type":"stream"
    }
   ],
   "metadata":{
    "datalore":{
     "node_id":"Jtu41n7aoMiJSGoGJn1sOt",
     "type":"CODE",
     "hide_input_from_viewers":true,
     "hide_output_from_viewers":true
    }
   }
  },
  {
   "cell_type":"code",
   "source":[
    "df_test"
   ],
   "execution_count":58,
   "outputs":[
    {
     "data":{
      "text\/html":[
       "<div>\n",
       "<style scoped>\n",
       "    .dataframe tbody tr th:only-of-type {\n",
       "        vertical-align: middle;\n",
       "    }\n",
       "\n",
       "    .dataframe tbody tr th {\n",
       "        vertical-align: top;\n",
       "    }\n",
       "\n",
       "    .dataframe thead th {\n",
       "        text-align: right;\n",
       "    }\n",
       "<\/style>\n",
       "<table border=\"1\" class=\"dataframe\">\n",
       "  <thead>\n",
       "    <tr style=\"text-align: right;\">\n",
       "      <th><\/th>\n",
       "      <th>date<\/th>\n",
       "      <th>close<\/th>\n",
       "      <th>open<\/th>\n",
       "      <th>high<\/th>\n",
       "      <th>low<\/th>\n",
       "      <th>period<\/th>\n",
       "      <th>earnings_release<\/th>\n",
       "    <\/tr>\n",
       "  <\/thead>\n",
       "  <tbody>\n",
       "    <tr>\n",
       "      <th>0<\/th>\n",
       "      <td>2022-06-13<\/td>\n",
       "      <td>164.26<\/td>\n",
       "      <td>170.59<\/td>\n",
       "      <td>172.58<\/td>\n",
       "      <td>164.03<\/td>\n",
       "      <td>0<\/td>\n",
       "      <td>0<\/td>\n",
       "    <\/tr>\n",
       "    <tr>\n",
       "      <th>1<\/th>\n",
       "      <td>2022-06-14<\/td>\n",
       "      <td>163.73<\/td>\n",
       "      <td>166.03<\/td>\n",
       "      <td>166.75<\/td>\n",
       "      <td>161.36<\/td>\n",
       "      <td>0<\/td>\n",
       "      <td>0<\/td>\n",
       "    <\/tr>\n",
       "    <tr>\n",
       "      <th>2<\/th>\n",
       "      <td>2022-06-15<\/td>\n",
       "      <td>169.35<\/td>\n",
       "      <td>167.20<\/td>\n",
       "      <td>172.16<\/td>\n",
       "      <td>163.98<\/td>\n",
       "      <td>0<\/td>\n",
       "      <td>0<\/td>\n",
       "    <\/tr>\n",
       "    <tr>\n",
       "      <th>3<\/th>\n",
       "      <td>2022-06-16<\/td>\n",
       "      <td>160.87<\/td>\n",
       "      <td>163.72<\/td>\n",
       "      <td>165.08<\/td>\n",
       "      <td>159.61<\/td>\n",
       "      <td>0<\/td>\n",
       "      <td>0<\/td>\n",
       "    <\/tr>\n",
       "    <tr>\n",
       "      <th>4<\/th>\n",
       "      <td>2022-06-17<\/td>\n",
       "      <td>163.74<\/td>\n",
       "      <td>161.68<\/td>\n",
       "      <td>165.90<\/td>\n",
       "      <td>159.90<\/td>\n",
       "      <td>0<\/td>\n",
       "      <td>0<\/td>\n",
       "    <\/tr>\n",
       "    <tr>\n",
       "      <th>...<\/th>\n",
       "      <td>...<\/td>\n",
       "      <td>...<\/td>\n",
       "      <td>...<\/td>\n",
       "      <td>...<\/td>\n",
       "      <td>...<\/td>\n",
       "      <td>...<\/td>\n",
       "      <td>...<\/td>\n",
       "    <\/tr>\n",
       "    <tr>\n",
       "      <th>441<\/th>\n",
       "      <td>2024-03-19<\/td>\n",
       "      <td>496.24<\/td>\n",
       "      <td>488.17<\/td>\n",
       "      <td>496.63<\/td>\n",
       "      <td>481.28<\/td>\n",
       "      <td>7<\/td>\n",
       "      <td>0<\/td>\n",
       "    <\/tr>\n",
       "    <tr>\n",
       "      <th>442<\/th>\n",
       "      <td>2024-03-20<\/td>\n",
       "      <td>505.52<\/td>\n",
       "      <td>499.50<\/td>\n",
       "      <td>508.20<\/td>\n",
       "      <td>495.17<\/td>\n",
       "      <td>7<\/td>\n",
       "      <td>0<\/td>\n",
       "    <\/tr>\n",
       "    <tr>\n",
       "      <th>443<\/th>\n",
       "      <td>2024-03-21<\/td>\n",
       "      <td>507.76<\/td>\n",
       "      <td>514.71<\/td>\n",
       "      <td>515.04<\/td>\n",
       "      <td>506.01<\/td>\n",
       "      <td>7<\/td>\n",
       "      <td>0<\/td>\n",
       "    <\/tr>\n",
       "    <tr>\n",
       "      <th>444<\/th>\n",
       "      <td>2024-03-22<\/td>\n",
       "      <td>509.58<\/td>\n",
       "      <td>507.00<\/td>\n",
       "      <td>509.97<\/td>\n",
       "      <td>504.34<\/td>\n",
       "      <td>7<\/td>\n",
       "      <td>0<\/td>\n",
       "    <\/tr>\n",
       "    <tr>\n",
       "      <th>445<\/th>\n",
       "      <td>2024-03-25<\/td>\n",
       "      <td>503.02<\/td>\n",
       "      <td>506.00<\/td>\n",
       "      <td>507.22<\/td>\n",
       "      <td>500.24<\/td>\n",
       "      <td>7<\/td>\n",
       "      <td>0<\/td>\n",
       "    <\/tr>\n",
       "  <\/tbody>\n",
       "<\/table>\n",
       "<p>446 rows × 7 columns<\/p>\n",
       "<\/div>"
      ]
     },
     "metadata":{
      
     },
     "output_type":"display_data"
    }
   ],
   "metadata":{
    "datalore":{
     "node_id":"S2g9sgaqFNA23Ip1MvExBg",
     "type":"CODE",
     "hide_input_from_viewers":true,
     "hide_output_from_viewers":true
    }
   }
  },
  {
   "cell_type":"code",
   "source":[
    "# Calculate pct change, largest diff, volatility, etc. in and out reporting period\n",
    "\n",
    "def "
   ],
   "execution_count":null,
   "outputs":[
    
   ],
   "metadata":{
    "datalore":{
     "node_id":"OWm83XpnZTtESFXeK2QbYu",
     "type":"CODE",
     "hide_input_from_viewers":true,
     "hide_output_from_viewers":true
    }
   }
  },
  {
   "cell_type":"code",
   "source":[
    "## Wrong. Needs rework\n",
    "\n",
    "def calculate_statistical_breakeven(df, call_price, call_strike, put_price, put_strike, current_price, percentile=0.5):\n",
    "    total_premium = call_price + put_price\n",
    "    upper_breakeven = call_strike + total_premium\n",
    "    lower_breakeven = put_strike - total_premium\n",
    "    \n",
    "    # Using close percentage changes as a proxy for daily movement. Adjust as needed.\n",
    "    df['daily_pct_change'] = df['close'].pct_change() * 100\n",
    "    mean_pct_change = df['daily_pct_change'].mean()\n",
    "    std_pct_change = df['daily_pct_change'].std()\n",
    "\n",
    "    # Adjust the mean and std based on the specified percentile (for a more conservative estimate)\n",
    "    if percentile < 0.5:\n",
    "        # Focusing on smaller changes\n",
    "        adjustment_factor = norm.ppf(percentile)\n",
    "    else:\n",
    "        # Focusing on larger changes, more optimistic\n",
    "        adjustment_factor = norm.ppf(1 - percentile)\n",
    "\n",
    "    adjusted_mean = mean_pct_change * adjustment_factor\n",
    "    adjusted_std = std_pct_change * adjustment_factor\n",
    "\n",
    "    # Calculate Z-scores for upper and lower breakeven points\n",
    "    z_score_upper = (upper_breakeven - current_price - adjusted_mean) \/ adjusted_std\n",
    "    z_score_lower = (current_price - lower_breakeven - adjusted_mean) \/ adjusted_std\n",
    "\n",
    "    # Calculate probabilities using the cumulative distribution function\n",
    "    probability_upper = norm.cdf(z_score_upper)\n",
    "    probability_lower = norm.cdf(z_score_lower)\n",
    "\n",
    "    # Combined chance to reach either breakeven point\n",
    "    chance_of_breakeven = (probability_upper + (1 - probability_lower)) * 100 \/ 2\n",
    "\n",
    "    return {\n",
    "        \"Upper Breakeven\": upper_breakeven,\n",
    "        \"Lower Breakeven\": lower_breakeven,\n",
    "        \"Chance of Breakeven (%)\": chance_of_breakeven,\n",
    "        \"Adjusted Mean (%)\": adjusted_mean,\n",
    "        \"Adjusted Std Deviation (%)\": adjusted_std\n",
    "    }\n",
    "\n",
    "\n",
    "\n"
   ],
   "execution_count":9,
   "outputs":[
    
   ],
   "metadata":{
    "datalore":{
     "node_id":"yki4TXRLZZTTWLN9HqFEkh",
     "type":"CODE",
     "hide_input_from_viewers":true,
     "hide_output_from_viewers":true
    }
   }
  },
  {
   "cell_type":"code",
   "source":[
    "# Find all companies releasing their earnings in the next month\n",
    "def fetch_earnings_next_month():\n",
    "    today = datetime.now().date()\n",
    "    next_month = today + timedelta(days=14)\n",
    "    \n",
    "    query = text(\"\"\"\n",
    "    SELECT act_symbol, date, `when`\n",
    "    FROM earnings_calendar\n",
    "    WHERE date BETWEEN :today AND :next_month\n",
    "    ORDER BY date;\n",
    "    \"\"\")\n",
    "\n",
    "    with engine_e.connect() as connection:\n",
    "        earnings_next_month = pd.read_sql_query(query, connection, params={\"today\": today, \"next_month\": next_month})\n",
    "    \n",
    "    return earnings_next_month\n",
    "\n"
   ],
   "execution_count":10,
   "outputs":[
    
   ],
   "metadata":{
    "datalore":{
     "node_id":"REVM31LUiyI7nekAtjC7GR",
     "type":"CODE",
     "hide_input_from_viewers":true,
     "hide_output_from_viewers":true
    }
   }
  },
  {
   "cell_type":"code",
   "source":[
    "earnings_release_next_month = fetch_earnings_next_month()\n",
    "print(earnings_release_next_month)"
   ],
   "execution_count":12,
   "outputs":[
    {
     "name":"stdout",
     "text":[
      "    act_symbol        date                when\n",
      "0          AGX  2024-04-10                None\n",
      "1         APOG  2024-04-10                None\n",
      "2         GLDG  2024-04-10                None\n",
      "3         LEDS  2024-04-10                None\n",
      "4         PCYO  2024-04-10                None\n",
      "..         ...         ...                 ...\n",
      "683         WM  2024-04-24  After market close\n",
      "684        WNC  2024-04-24                None\n",
      "685       WOLF  2024-04-24                None\n",
      "686        WSC  2024-04-24                None\n",
      "687       YHGJ  2024-04-24                None\n",
      "\n",
      "[688 rows x 3 columns]\n"
     ],
     "output_type":"stream"
    }
   ],
   "metadata":{
    "datalore":{
     "node_id":"s8FfcNjiM6lstW1FEehjkz",
     "type":"CODE",
     "hide_input_from_viewers":true,
     "hide_output_from_viewers":true
    }
   }
  },
  {
   "cell_type":"code",
   "source":[
    "print(earnings_release_next_month['act_symbol'])"
   ],
   "execution_count":13,
   "outputs":[
    {
     "name":"stdout",
     "text":[
      "0       AGX\n",
      "1      APOG\n",
      "2      GLDG\n",
      "3      LEDS\n",
      "4      PCYO\n",
      "       ... \n",
      "683      WM\n",
      "684     WNC\n",
      "685    WOLF\n",
      "686     WSC\n",
      "687    YHGJ\n",
      "Name: act_symbol, Length: 688, dtype: object\n"
     ],
     "output_type":"stream"
    }
   ],
   "metadata":{
    "datalore":{
     "node_id":"psLnum8VpQhu92zCjvNBUn",
     "type":"CODE",
     "hide_input_from_viewers":true,
     "hide_output_from_viewers":true
    }
   }
  },
  {
   "cell_type":"code",
   "source":[
    "tk_0 = take_ticker()\n",
    "df_date = find_earnings_dates(tk_0)\n",
    "df_0 = fetch_stock_prices_around_earnings(tk_0, df_date['date'])\n",
    "df_chg = calculate_percentage_changes(df_0)"
   ],
   "execution_count":34,
   "outputs":[
    {
     "name":"stdout",
     "text":[
      "Enter a stock ticker:  meta\n"
     ],
     "output_type":"stream"
    }
   ],
   "metadata":{
    "datalore":{
     "node_id":"BX6Zft1s7RFzLCeKROcdE9",
     "type":"CODE",
     "hide_input_from_viewers":true,
     "hide_output_from_viewers":true
    }
   }
  },
  {
   "cell_type":"code",
   "source":[
    "df_date"
   ],
   "execution_count":43,
   "outputs":[
    {
     "data":{
      "text\/html":[
       "<div>\n",
       "<style scoped>\n",
       "    .dataframe tbody tr th:only-of-type {\n",
       "        vertical-align: middle;\n",
       "    }\n",
       "\n",
       "    .dataframe tbody tr th {\n",
       "        vertical-align: top;\n",
       "    }\n",
       "\n",
       "    .dataframe thead th {\n",
       "        text-align: right;\n",
       "    }\n",
       "<\/style>\n",
       "<table border=\"1\" class=\"dataframe\">\n",
       "  <thead>\n",
       "    <tr style=\"text-align: right;\">\n",
       "      <th><\/th>\n",
       "      <th>act_symbol<\/th>\n",
       "      <th>date<\/th>\n",
       "      <th>when<\/th>\n",
       "    <\/tr>\n",
       "  <\/thead>\n",
       "  <tbody>\n",
       "    <tr>\n",
       "      <th>0<\/th>\n",
       "      <td>META<\/td>\n",
       "      <td>2022-07-28<\/td>\n",
       "      <td>After market close<\/td>\n",
       "    <\/tr>\n",
       "    <tr>\n",
       "      <th>1<\/th>\n",
       "      <td>META<\/td>\n",
       "      <td>2022-10-27<\/td>\n",
       "      <td>After market close<\/td>\n",
       "    <\/tr>\n",
       "    <tr>\n",
       "      <th>2<\/th>\n",
       "      <td>META<\/td>\n",
       "      <td>2023-02-02<\/td>\n",
       "      <td>After market close<\/td>\n",
       "    <\/tr>\n",
       "    <tr>\n",
       "      <th>3<\/th>\n",
       "      <td>META<\/td>\n",
       "      <td>2023-04-27<\/td>\n",
       "      <td>After market close<\/td>\n",
       "    <\/tr>\n",
       "    <tr>\n",
       "      <th>4<\/th>\n",
       "      <td>META<\/td>\n",
       "      <td>2023-07-27<\/td>\n",
       "      <td>After market close<\/td>\n",
       "    <\/tr>\n",
       "    <tr>\n",
       "      <th>5<\/th>\n",
       "      <td>META<\/td>\n",
       "      <td>2023-10-26<\/td>\n",
       "      <td>After market close<\/td>\n",
       "    <\/tr>\n",
       "    <tr>\n",
       "      <th>6<\/th>\n",
       "      <td>META<\/td>\n",
       "      <td>2024-02-02<\/td>\n",
       "      <td>After market close<\/td>\n",
       "    <\/tr>\n",
       "    <tr>\n",
       "      <th>7<\/th>\n",
       "      <td>META<\/td>\n",
       "      <td>2024-04-24<\/td>\n",
       "      <td>None<\/td>\n",
       "    <\/tr>\n",
       "  <\/tbody>\n",
       "<\/table>\n",
       "<\/div>"
      ]
     },
     "metadata":{
      
     },
     "output_type":"display_data"
    }
   ],
   "metadata":{
    "datalore":{
     "node_id":"gn5cbyiH1e3DH2AT3GBhDP",
     "type":"CODE",
     "hide_input_from_viewers":true,
     "hide_output_from_viewers":true
    }
   }
  },
  {
   "cell_type":"code",
   "source":[
    "df_chg_sorted = df_chg.sort_values(by=['period', 'date'])\n",
    "df_chg_sorted.head(12)"
   ],
   "execution_count":44,
   "outputs":[
    {
     "data":{
      "text\/html":[
       "<div>\n",
       "<style scoped>\n",
       "    .dataframe tbody tr th:only-of-type {\n",
       "        vertical-align: middle;\n",
       "    }\n",
       "\n",
       "    .dataframe tbody tr th {\n",
       "        vertical-align: top;\n",
       "    }\n",
       "\n",
       "    .dataframe thead th {\n",
       "        text-align: right;\n",
       "    }\n",
       "<\/style>\n",
       "<table border=\"1\" class=\"dataframe\">\n",
       "  <thead>\n",
       "    <tr style=\"text-align: right;\">\n",
       "      <th><\/th>\n",
       "      <th>date<\/th>\n",
       "      <th>close<\/th>\n",
       "      <th>open<\/th>\n",
       "      <th>high<\/th>\n",
       "      <th>low<\/th>\n",
       "      <th>period<\/th>\n",
       "      <th>close_pct_change<\/th>\n",
       "      <th>lowest_low<\/th>\n",
       "      <th>highest_high<\/th>\n",
       "      <th>vix<\/th>\n",
       "      <th>largest_pct_diff<\/th>\n",
       "      <th>first<\/th>\n",
       "      <th>last<\/th>\n",
       "      <th>total_close_pct_change<\/th>\n",
       "    <\/tr>\n",
       "  <\/thead>\n",
       "  <tbody>\n",
       "    <tr>\n",
       "      <th>0<\/th>\n",
       "      <td>2022-07-25<\/td>\n",
       "      <td>166.65<\/td>\n",
       "      <td>169.00<\/td>\n",
       "      <td>170.57<\/td>\n",
       "      <td>164.81<\/td>\n",
       "      <td>1<\/td>\n",
       "      <td>NaN<\/td>\n",
       "      <td>154.85<\/td>\n",
       "      <td>170.87<\/td>\n",
       "      <td>4.237426<\/td>\n",
       "      <td>10.345496<\/td>\n",
       "      <td>166.65<\/td>\n",
       "      <td>160.19<\/td>\n",
       "      <td>-3.876388<\/td>\n",
       "    <\/tr>\n",
       "    <tr>\n",
       "      <th>1<\/th>\n",
       "      <td>2022-07-26<\/td>\n",
       "      <td>159.15<\/td>\n",
       "      <td>165.94<\/td>\n",
       "      <td>166.00<\/td>\n",
       "      <td>157.95<\/td>\n",
       "      <td>1<\/td>\n",
       "      <td>-4.500450<\/td>\n",
       "      <td>154.85<\/td>\n",
       "      <td>170.87<\/td>\n",
       "      <td>4.237426<\/td>\n",
       "      <td>10.345496<\/td>\n",
       "      <td>166.65<\/td>\n",
       "      <td>160.19<\/td>\n",
       "      <td>-3.876388<\/td>\n",
       "    <\/tr>\n",
       "    <tr>\n",
       "      <th>2<\/th>\n",
       "      <td>2022-07-27<\/td>\n",
       "      <td>169.58<\/td>\n",
       "      <td>162.59<\/td>\n",
       "      <td>170.87<\/td>\n",
       "      <td>162.02<\/td>\n",
       "      <td>1<\/td>\n",
       "      <td>6.553566<\/td>\n",
       "      <td>154.85<\/td>\n",
       "      <td>170.87<\/td>\n",
       "      <td>4.237426<\/td>\n",
       "      <td>10.345496<\/td>\n",
       "      <td>166.65<\/td>\n",
       "      <td>160.19<\/td>\n",
       "      <td>-3.876388<\/td>\n",
       "    <\/tr>\n",
       "    <tr>\n",
       "      <th>3<\/th>\n",
       "      <td>2022-07-28<\/td>\n",
       "      <td>160.72<\/td>\n",
       "      <td>161.06<\/td>\n",
       "      <td>161.51<\/td>\n",
       "      <td>154.85<\/td>\n",
       "      <td>1<\/td>\n",
       "      <td>-5.224673<\/td>\n",
       "      <td>154.85<\/td>\n",
       "      <td>170.87<\/td>\n",
       "      <td>4.237426<\/td>\n",
       "      <td>10.345496<\/td>\n",
       "      <td>166.65<\/td>\n",
       "      <td>160.19<\/td>\n",
       "      <td>-3.876388<\/td>\n",
       "    <\/tr>\n",
       "    <tr>\n",
       "      <th>4<\/th>\n",
       "      <td>2022-07-29<\/td>\n",
       "      <td>159.10<\/td>\n",
       "      <td>157.69<\/td>\n",
       "      <td>160.14<\/td>\n",
       "      <td>155.17<\/td>\n",
       "      <td>1<\/td>\n",
       "      <td>-1.007964<\/td>\n",
       "      <td>154.85<\/td>\n",
       "      <td>170.87<\/td>\n",
       "      <td>4.237426<\/td>\n",
       "      <td>10.345496<\/td>\n",
       "      <td>166.65<\/td>\n",
       "      <td>160.19<\/td>\n",
       "      <td>-3.876388<\/td>\n",
       "    <\/tr>\n",
       "    <tr>\n",
       "      <th>5<\/th>\n",
       "      <td>2022-08-01<\/td>\n",
       "      <td>159.93<\/td>\n",
       "      <td>157.25<\/td>\n",
       "      <td>165.19<\/td>\n",
       "      <td>155.23<\/td>\n",
       "      <td>1<\/td>\n",
       "      <td>0.521684<\/td>\n",
       "      <td>154.85<\/td>\n",
       "      <td>170.87<\/td>\n",
       "      <td>4.237426<\/td>\n",
       "      <td>10.345496<\/td>\n",
       "      <td>166.65<\/td>\n",
       "      <td>160.19<\/td>\n",
       "      <td>-3.876388<\/td>\n",
       "    <\/tr>\n",
       "    <tr>\n",
       "      <th>6<\/th>\n",
       "      <td>2022-08-02<\/td>\n",
       "      <td>160.19<\/td>\n",
       "      <td>158.31<\/td>\n",
       "      <td>162.24<\/td>\n",
       "      <td>158.01<\/td>\n",
       "      <td>1<\/td>\n",
       "      <td>0.162571<\/td>\n",
       "      <td>154.85<\/td>\n",
       "      <td>170.87<\/td>\n",
       "      <td>4.237426<\/td>\n",
       "      <td>10.345496<\/td>\n",
       "      <td>166.65<\/td>\n",
       "      <td>160.19<\/td>\n",
       "      <td>-3.876388<\/td>\n",
       "    <\/tr>\n",
       "    <tr>\n",
       "      <th>7<\/th>\n",
       "      <td>2022-10-24<\/td>\n",
       "      <td>129.72<\/td>\n",
       "      <td>127.25<\/td>\n",
       "      <td>133.48<\/td>\n",
       "      <td>124.57<\/td>\n",
       "      <td>2<\/td>\n",
       "      <td>NaN<\/td>\n",
       "      <td>92.60<\/td>\n",
       "      <td>138.35<\/td>\n",
       "      <td>10.904958<\/td>\n",
       "      <td>49.406048<\/td>\n",
       "      <td>129.72<\/td>\n",
       "      <td>95.20<\/td>\n",
       "      <td>-26.611163<\/td>\n",
       "    <\/tr>\n",
       "    <tr>\n",
       "      <th>8<\/th>\n",
       "      <td>2022-10-25<\/td>\n",
       "      <td>137.51<\/td>\n",
       "      <td>130.88<\/td>\n",
       "      <td>138.35<\/td>\n",
       "      <td>130.59<\/td>\n",
       "      <td>2<\/td>\n",
       "      <td>6.005242<\/td>\n",
       "      <td>92.60<\/td>\n",
       "      <td>138.35<\/td>\n",
       "      <td>10.904958<\/td>\n",
       "      <td>49.406048<\/td>\n",
       "      <td>129.72<\/td>\n",
       "      <td>95.20<\/td>\n",
       "      <td>-26.611163<\/td>\n",
       "    <\/tr>\n",
       "    <tr>\n",
       "      <th>9<\/th>\n",
       "      <td>2022-10-26<\/td>\n",
       "      <td>129.82<\/td>\n",
       "      <td>131.68<\/td>\n",
       "      <td>135.55<\/td>\n",
       "      <td>128.53<\/td>\n",
       "      <td>2<\/td>\n",
       "      <td>-5.592321<\/td>\n",
       "      <td>92.60<\/td>\n",
       "      <td>138.35<\/td>\n",
       "      <td>10.904958<\/td>\n",
       "      <td>49.406048<\/td>\n",
       "      <td>129.72<\/td>\n",
       "      <td>95.20<\/td>\n",
       "      <td>-26.611163<\/td>\n",
       "    <\/tr>\n",
       "    <tr>\n",
       "      <th>10<\/th>\n",
       "      <td>2022-10-27<\/td>\n",
       "      <td>97.94<\/td>\n",
       "      <td>97.98<\/td>\n",
       "      <td>102.50<\/td>\n",
       "      <td>96.38<\/td>\n",
       "      <td>2<\/td>\n",
       "      <td>-24.557079<\/td>\n",
       "      <td>92.60<\/td>\n",
       "      <td>138.35<\/td>\n",
       "      <td>10.904958<\/td>\n",
       "      <td>49.406048<\/td>\n",
       "      <td>129.72<\/td>\n",
       "      <td>95.20<\/td>\n",
       "      <td>-26.611163<\/td>\n",
       "    <\/tr>\n",
       "    <tr>\n",
       "      <th>11<\/th>\n",
       "      <td>2022-10-28<\/td>\n",
       "      <td>99.20<\/td>\n",
       "      <td>99.58<\/td>\n",
       "      <td>100.85<\/td>\n",
       "      <td>97.51<\/td>\n",
       "      <td>2<\/td>\n",
       "      <td>1.286502<\/td>\n",
       "      <td>92.60<\/td>\n",
       "      <td>138.35<\/td>\n",
       "      <td>10.904958<\/td>\n",
       "      <td>49.406048<\/td>\n",
       "      <td>129.72<\/td>\n",
       "      <td>95.20<\/td>\n",
       "      <td>-26.611163<\/td>\n",
       "    <\/tr>\n",
       "  <\/tbody>\n",
       "<\/table>\n",
       "<\/div>"
      ]
     },
     "metadata":{
      
     },
     "output_type":"display_data"
    }
   ],
   "metadata":{
    "datalore":{
     "node_id":"NMaobD3088ngY5OH4bIsuh",
     "type":"CODE",
     "hide_input_from_viewers":true,
     "hide_output_from_viewers":true
    }
   }
  },
  {
   "cell_type":"code",
   "source":[
    "\n",
    "df_summary = df_chg_sorted.groupby('period').agg(\n",
    "    date=('date', 'first'),  # Get the first date of the period\n",
    "    largest_pct_diff=('largest_pct_diff', 'first'),  # Assuming these are constant within each period\n",
    "    total_close_pct_change=('total_close_pct_change', 'first'),  # Ditto\n",
    "    volatility = ('vix', 'first')\n",
    ").reset_index()"
   ],
   "execution_count":19,
   "outputs":[
    
   ],
   "metadata":{
    "datalore":{
     "node_id":"JC06ILd3HAeNzLLXMaNmlp",
     "type":"CODE",
     "hide_input_from_viewers":true,
     "hide_output_from_viewers":true
    }
   }
  },
  {
   "cell_type":"code",
   "source":[
    "df_summary"
   ],
   "execution_count":20,
   "outputs":[
    {
     "data":{
      "text\/html":[
       "<div>\n",
       "<style scoped>\n",
       "    .dataframe tbody tr th:only-of-type {\n",
       "        vertical-align: middle;\n",
       "    }\n",
       "\n",
       "    .dataframe tbody tr th {\n",
       "        vertical-align: top;\n",
       "    }\n",
       "\n",
       "    .dataframe thead th {\n",
       "        text-align: right;\n",
       "    }\n",
       "<\/style>\n",
       "<table border=\"1\" class=\"dataframe\">\n",
       "  <thead>\n",
       "    <tr style=\"text-align: right;\">\n",
       "      <th><\/th>\n",
       "      <th>period<\/th>\n",
       "      <th>date<\/th>\n",
       "      <th>largest_pct_diff<\/th>\n",
       "      <th>total_close_pct_change<\/th>\n",
       "      <th>volatility<\/th>\n",
       "    <\/tr>\n",
       "  <\/thead>\n",
       "  <tbody>\n",
       "    <tr>\n",
       "      <th>0<\/th>\n",
       "      <td>1<\/td>\n",
       "      <td>2022-07-25<\/td>\n",
       "      <td>10.345496<\/td>\n",
       "      <td>-3.876388<\/td>\n",
       "      <td>4.174564<\/td>\n",
       "    <\/tr>\n",
       "    <tr>\n",
       "      <th>1<\/th>\n",
       "      <td>2<\/td>\n",
       "      <td>2022-10-24<\/td>\n",
       "      <td>49.406048<\/td>\n",
       "      <td>-26.611163<\/td>\n",
       "      <td>19.496665<\/td>\n",
       "    <\/tr>\n",
       "    <tr>\n",
       "      <th>2<\/th>\n",
       "      <td>3<\/td>\n",
       "      <td>2023-01-30<\/td>\n",
       "      <td>34.168084<\/td>\n",
       "      <td>30.300558<\/td>\n",
       "      <td>20.749784<\/td>\n",
       "    <\/tr>\n",
       "    <tr>\n",
       "      <th>3<\/th>\n",
       "      <td>4<\/td>\n",
       "      <td>2023-04-24<\/td>\n",
       "      <td>18.244581<\/td>\n",
       "      <td>12.430095<\/td>\n",
       "      <td>16.391350<\/td>\n",
       "    <\/tr>\n",
       "    <tr>\n",
       "      <th>4<\/th>\n",
       "      <td>5<\/td>\n",
       "      <td>2023-07-24<\/td>\n",
       "      <td>13.146028<\/td>\n",
       "      <td>10.664929<\/td>\n",
       "      <td>14.031947<\/td>\n",
       "    <\/tr>\n",
       "    <tr>\n",
       "      <th>5<\/th>\n",
       "      <td>6<\/td>\n",
       "      <td>2023-10-23<\/td>\n",
       "      <td>13.940587<\/td>\n",
       "      <td>-4.057196<\/td>\n",
       "      <td>8.911926<\/td>\n",
       "    <\/tr>\n",
       "    <tr>\n",
       "      <th>6<\/th>\n",
       "      <td>7<\/td>\n",
       "      <td>2024-01-29<\/td>\n",
       "      <td>25.538621<\/td>\n",
       "      <td>17.098898<\/td>\n",
       "      <td>37.091073<\/td>\n",
       "    <\/tr>\n",
       "  <\/tbody>\n",
       "<\/table>\n",
       "<\/div>"
      ]
     },
     "metadata":{
      
     },
     "output_type":"display_data"
    }
   ],
   "metadata":{
    "datalore":{
     "node_id":"GLseiIJZ4Vhrd73EtBG9Qm",
     "type":"CODE",
     "hide_input_from_viewers":true,
     "hide_output_from_viewers":true
    }
   }
  },
  {
   "cell_type":"code",
   "source":[
    "from pygooglenews import GoogleNews\n",
    "from bs4 import BeautifulSoup\n",
    "import requests\n",
    "\n",
    "\n",
    "def scrape_article_text(article_url):\n",
    "    try:\n",
    "        response = requests.get(article_url, timeout=10)\n",
    "        soup = BeautifulSoup(response.content, 'html.parser')\n",
    "        \n",
    "        # Example: Find the article text within <p> tags. This might need to be adjusted\n",
    "        paragraphs = soup.find_all('p')\n",
    "        article_text = ' '.join([para.get_text() for para in paragraphs])\n",
    "        return article_text\n",
    "    except Exception as e:\n",
    "        print(f\"Could not scrape {article_url}: {e}\")\n",
    "        return None\n",
    "\n",
    "\n",
    "gn = GoogleNews(lang = 'en', country = 'US')\n",
    "search_results = gn.search('supply chain')\n",
    "\n",
    "articles_data = []\n",
    "for entry in search_results['entries']:\n",
    "    article_url = entry['link']\n",
    "    article_text = scrape_article_text(article_url)\n",
    "    \n",
    "    if article_text:\n",
    "        articles_data.append({\n",
    "            'date': entry['published'].split('T')[0],\n",
    "            'title': BeautifulSoup(entry['title'], 'html.parser').get_text(),\n",
    "            'url': article_url,\n",
    "            'text': article_text[:500]  # Store first 500 characters for demonstration\n",
    "        })\n",
    "\n",
    "df_articles = pd.DataFrame(articles_data)\n",
    "print(df_articles.head())\n",
    "\n",
    "# Save the DataFrame to a CSV file\n",
    "df_articles.to_csv('full_text_supply_chain_articles.csv', index=False)"
   ],
   "execution_count":12,
   "outputs":[
    {
     "ename":"ModuleNotFoundError",
     "evalue":"ModuleNotFoundError: No module named 'pygooglenews'",
     "traceback":[
      "\u001b[0;31m---------------------------------------------------------------------------",
      "Traceback (most recent call last)",
      "    at line 1 in <module>",
      "ModuleNotFoundError: No module named 'pygooglenews'"
     ],
     "output_type":"error"
    }
   ],
   "metadata":{
    "datalore":{
     "node_id":"bJCLZSaEeZWaoJju4IG1mj",
     "type":"CODE",
     "hide_input_from_viewers":true,
     "hide_output_from_viewers":true
    }
   }
  },
  {
   "cell_type":"code",
   "source":[
    
   ],
   "execution_count":0,
   "outputs":[
    
   ],
   "metadata":{
    "datalore":{
     "node_id":"kCkk6EGbqXGogiEDY4N0qL",
     "type":"CODE",
     "hide_input_from_viewers":true,
     "hide_output_from_viewers":true
    }
   }
  },
  {
   "cell_type":"code",
   "source":[
    
   ],
   "execution_count":0,
   "outputs":[
    
   ],
   "metadata":{
    "datalore":{
     "node_id":"ifXpRisOl0kMrv4od8XFiq",
     "type":"CODE",
     "hide_input_from_viewers":true,
     "hide_output_from_viewers":true
    }
   }
  }
 ],
 "metadata":{
  "kernelspec":{
   "display_name":"Python",
   "language":"python",
   "name":"python"
  },
  "datalore":{
   "computation_mode":"JUPYTER",
   "package_manager":"pip",
   "base_environment":"default",
   "packages":[
    {
     "name":"feedparser",
     "version":"6.0.11",
     "source":"PIP"
    },
    {
     "name":"dateparser",
     "version":"1.2.0",
     "source":"PIP"
    }
   ],
   "report_row_ids":[
    
   ],
   "version":3
  }
 },
 "nbformat":4,
 "nbformat_minor":4
}